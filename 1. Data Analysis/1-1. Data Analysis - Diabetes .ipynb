{
 "cells": [
  {
   "cell_type": "code",
   "execution_count": 1,
   "id": "68bba0a7",
   "metadata": {},
   "outputs": [],
   "source": [
    "from sklearn.datasets import load_diabetes # (1)\n",
    "import numpy as np # (2,3)\n",
    "from sklearn.model_selection import train_test_split # (4)"
   ]
  },
  {
   "cell_type": "markdown",
   "id": "e621ac50",
   "metadata": {},
   "source": [
    "    (1) 데이터 가져오기"
   ]
  },
  {
   "cell_type": "code",
   "execution_count": 2,
   "id": "2864ee95",
   "metadata": {},
   "outputs": [
    {
     "name": "stdout",
     "output_type": "stream",
     "text": [
      "(442, 10)\n",
      "(442,)\n"
     ]
    }
   ],
   "source": [
    "from sklearn.datasets import load_diabetes\n",
    "diabetes = load_diabetes()\n",
    "df_x = diabetes.data\n",
    "df_y = diabetes.target\n",
    "\n",
    "print(df_x.shape)\n",
    "print(df_y.shape)"
   ]
  },
  {
   "cell_type": "code",
   "execution_count": 3,
   "id": "dae64dab",
   "metadata": {},
   "outputs": [
    {
     "name": "stdout",
     "output_type": "stream",
     "text": [
      ".. _diabetes_dataset:\n",
      "\n",
      "Diabetes dataset\n",
      "----------------\n",
      "\n",
      "Ten baseline variables, age, sex, body mass index, average blood\n",
      "pressure, and six blood serum measurements were obtained for each of n =\n",
      "442 diabetes patients, as well as the response of interest, a\n",
      "quantitative measure of disease progression one year after baseline.\n",
      "\n",
      "**Data Set Characteristics:**\n",
      "\n",
      "  :Number of Instances: 442\n",
      "\n",
      "  :Number of Attributes: First 10 columns are numeric predictive values\n",
      "\n",
      "  :Target: Column 11 is a quantitative measure of disease progression one year after baseline\n",
      "\n",
      "  :Attribute Information:\n",
      "      - age     age in years\n",
      "      - sex\n",
      "      - bmi     body mass index\n",
      "      - bp      average blood pressure\n",
      "      - s1      tc, total serum cholesterol\n",
      "      - s2      ldl, low-density lipoproteins\n",
      "      - s3      hdl, high-density lipoproteins\n",
      "      - s4      tch, total cholesterol / HDL\n",
      "      - s5      ltg, possibly log of serum triglycerides level\n",
      "      - s6      glu, blood sugar level\n",
      "\n",
      "Note: Each of these 10 feature variables have been mean centered and scaled by the standard deviation times the square root of `n_samples` (i.e. the sum of squares of each column totals 1).\n",
      "\n",
      "Source URL:\n",
      "https://www4.stat.ncsu.edu/~boos/var.select/diabetes.html\n",
      "\n",
      "For more information see:\n",
      "Bradley Efron, Trevor Hastie, Iain Johnstone and Robert Tibshirani (2004) \"Least Angle Regression,\" Annals of Statistics (with discussion), 407-499.\n",
      "(https://web.stanford.edu/~hastie/Papers/LARS/LeastAngle_2002.pdf)\n",
      "\n"
     ]
    }
   ],
   "source": [
    "print(diabetes.DESCR)"
   ]
  },
  {
   "cell_type": "markdown",
   "id": "ca09d7b3",
   "metadata": {},
   "source": [
    "    (2) 모델에 입력할 데이터 x 준비하기"
   ]
  },
  {
   "cell_type": "code",
   "execution_count": 4,
   "id": "e7c2a10f",
   "metadata": {},
   "outputs": [],
   "source": [
    "df_x = np.array(df_x)"
   ]
  },
  {
   "cell_type": "markdown",
   "id": "2a3dbe3c",
   "metadata": {},
   "source": [
    "    (3) 모델에 입력할 데이터 y 준비하기"
   ]
  },
  {
   "cell_type": "code",
   "execution_count": 5,
   "id": "ab8112e6",
   "metadata": {},
   "outputs": [],
   "source": [
    "df_y = np.array(df_y)"
   ]
  },
  {
   "cell_type": "markdown",
   "id": "92ed6e3b",
   "metadata": {},
   "source": [
    "    (4) train 데이터와 test 데이터로 분리하기\n",
    "   "
   ]
  },
  {
   "cell_type": "code",
   "execution_count": 6,
   "id": "e2028248",
   "metadata": {},
   "outputs": [],
   "source": [
    "X_train, X_test, y_train, y_test = train_test_split(\n",
    "    df_x, df_y, test_size=0.2, random_state=42)"
   ]
  },
  {
   "cell_type": "markdown",
   "id": "577dad22",
   "metadata": {},
   "source": [
    "    (5) 모델 준비하기"
   ]
  },
  {
   "cell_type": "code",
   "execution_count": 7,
   "id": "dfdb99b9",
   "metadata": {},
   "outputs": [
    {
     "name": "stdout",
     "output_type": "stream",
     "text": [
      "[0.70305618 0.5865637  0.19969293 0.57977508 0.74432911 0.25607774\n",
      " 0.02263739 0.58916902 0.28506263 0.43842315]\n",
      "0.8722084465935375\n"
     ]
    }
   ],
   "source": [
    "W = np.random.rand(10)\n",
    "b = np.random.rand()\n",
    "\n",
    "print(W)\n",
    "print(b)"
   ]
  },
  {
   "cell_type": "code",
   "execution_count": 8,
   "id": "4ce3df77",
   "metadata": {},
   "outputs": [],
   "source": [
    "def model(X,W,b):\n",
    "    predictions = 0\n",
    "    for i in range(10):\n",
    "        predictions += X[:, i] * W[i]\n",
    "    predictions += b\n",
    "    return predictions"
   ]
  },
  {
   "cell_type": "markdown",
   "id": "9b49d623",
   "metadata": {},
   "source": [
    "    (6) 손실함수 loss 정의하기"
   ]
  },
  {
   "cell_type": "code",
   "execution_count": 9,
   "id": "b22abca2",
   "metadata": {},
   "outputs": [],
   "source": [
    "def MSE(a, b):\n",
    "    mse = ((a - b) ** 2).mean()\n",
    "    return mse\n",
    "\n",
    "def loss(x, w, b, y):\n",
    "    predictions = model(x, w, b)\n",
    "    L = MSE(predictions, y)\n",
    "    return L"
   ]
  },
  {
   "cell_type": "markdown",
   "id": "4612af13",
   "metadata": {},
   "source": [
    "    (7) 기울기를 구하는 gradient 함수 구현하기"
   ]
  },
  {
   "cell_type": "code",
   "execution_count": 10,
   "id": "5e3a8b10",
   "metadata": {},
   "outputs": [],
   "source": [
    "def gradient(X, W, b, y):\n",
    "    # N은 데이터 포인트의 개수\n",
    "    N = len(y)\n",
    "    \n",
    "    # y_pred 준비\n",
    "    y_pred = model(X, W, b)\n",
    "    \n",
    "    # 공식에 맞게 gradient 계산\n",
    "    dW = 1/N * 2 * X.T.dot(y_pred - y)\n",
    "        \n",
    "    # b의 gradient 계산\n",
    "    db = 2 * (y_pred - y).mean()\n",
    "    return dW, db\n",
    "\n"
   ]
  },
  {
   "cell_type": "code",
   "execution_count": 11,
   "id": "dedf2362",
   "metadata": {},
   "outputs": [
    {
     "name": "stdout",
     "output_type": "stream",
     "text": [
      "[-1.36909093 -0.30979841 -4.28976741 -3.22644005 -1.54423599 -1.26633988\n",
      "  2.88703682 -3.14393148 -4.13680015 -2.79392431]\n",
      "-302.5225514326048\n"
     ]
    }
   ],
   "source": [
    "dW,db=gradient(df_x,W,b,df_y)\n",
    "print(dW)\n",
    "print(db)"
   ]
  },
  {
   "cell_type": "markdown",
   "id": "0bd118c8",
   "metadata": {},
   "source": [
    "    (8) 하이퍼 파라미터인 학습률 설정하기"
   ]
  },
  {
   "cell_type": "code",
   "execution_count": 12,
   "id": "461a196b",
   "metadata": {},
   "outputs": [],
   "source": [
    "LEARNING_RATE = 0.1"
   ]
  },
  {
   "cell_type": "markdown",
   "id": "e9794a69",
   "metadata": {},
   "source": [
    "    (9) 모델 학습하기"
   ]
  },
  {
   "cell_type": "code",
   "execution_count": 13,
   "id": "8643df18",
   "metadata": {},
   "outputs": [
    {
     "name": "stdout",
     "output_type": "stream",
     "text": [
      "Iteration 10 : Loss 6253.8539\n",
      "Iteration 20 : Loss 5911.5839\n",
      "Iteration 30 : Loss 5834.9261\n",
      "Iteration 40 : Loss 5763.5842\n",
      "Iteration 50 : Loss 5694.4808\n",
      "Iteration 60 : Loss 5627.5066\n",
      "Iteration 70 : Loss 5562.5892\n",
      "Iteration 80 : Loss 5499.6588\n",
      "Iteration 90 : Loss 5438.6485\n",
      "Iteration 100 : Loss 5379.4932\n",
      "Iteration 110 : Loss 5322.1305\n",
      "Iteration 120 : Loss 5266.5000\n",
      "Iteration 130 : Loss 5212.5434\n",
      "Iteration 140 : Loss 5160.2045\n",
      "Iteration 150 : Loss 5109.4289\n",
      "Iteration 160 : Loss 5060.1644\n",
      "Iteration 170 : Loss 5012.3603\n",
      "Iteration 180 : Loss 4965.9678\n",
      "Iteration 190 : Loss 4920.9399\n",
      "Iteration 200 : Loss 4877.2310\n",
      "Iteration 210 : Loss 4834.7972\n",
      "Iteration 220 : Loss 4793.5963\n",
      "Iteration 230 : Loss 4753.5872\n",
      "Iteration 240 : Loss 4714.7305\n",
      "Iteration 250 : Loss 4676.9882\n",
      "Iteration 260 : Loss 4640.3234\n",
      "Iteration 270 : Loss 4604.7006\n",
      "Iteration 280 : Loss 4570.0855\n",
      "Iteration 290 : Loss 4536.4451\n",
      "Iteration 300 : Loss 4503.7473\n",
      "Iteration 310 : Loss 4471.9614\n",
      "Iteration 320 : Loss 4441.0576\n",
      "Iteration 330 : Loss 4411.0070\n",
      "Iteration 340 : Loss 4381.7820\n",
      "Iteration 350 : Loss 4353.3558\n",
      "Iteration 360 : Loss 4325.7024\n",
      "Iteration 370 : Loss 4298.7969\n",
      "Iteration 380 : Loss 4272.6151\n",
      "Iteration 390 : Loss 4247.1338\n",
      "Iteration 400 : Loss 4222.3304\n",
      "Iteration 410 : Loss 4198.1832\n",
      "Iteration 420 : Loss 4174.6713\n",
      "Iteration 430 : Loss 4151.7743\n",
      "Iteration 440 : Loss 4129.4728\n",
      "Iteration 450 : Loss 4107.7478\n",
      "Iteration 460 : Loss 4086.5811\n",
      "Iteration 470 : Loss 4065.9549\n",
      "Iteration 480 : Loss 4045.8524\n",
      "Iteration 490 : Loss 4026.2571\n",
      "Iteration 500 : Loss 4007.1530\n",
      "Iteration 510 : Loss 3988.5249\n",
      "Iteration 520 : Loss 3970.3579\n",
      "Iteration 530 : Loss 3952.6377\n",
      "Iteration 540 : Loss 3935.3504\n",
      "Iteration 550 : Loss 3918.4828\n",
      "Iteration 560 : Loss 3902.0218\n",
      "Iteration 570 : Loss 3885.9550\n",
      "Iteration 580 : Loss 3870.2704\n",
      "Iteration 590 : Loss 3854.9563\n",
      "Iteration 600 : Loss 3840.0015\n",
      "Iteration 610 : Loss 3825.3951\n",
      "Iteration 620 : Loss 3811.1265\n",
      "Iteration 630 : Loss 3797.1856\n",
      "Iteration 640 : Loss 3783.5627\n",
      "Iteration 650 : Loss 3770.2481\n",
      "Iteration 660 : Loss 3757.2329\n",
      "Iteration 670 : Loss 3744.5080\n",
      "Iteration 680 : Loss 3732.0649\n",
      "Iteration 690 : Loss 3719.8953\n",
      "Iteration 700 : Loss 3707.9913\n",
      "Iteration 710 : Loss 3696.3451\n",
      "Iteration 720 : Loss 3684.9492\n",
      "Iteration 730 : Loss 3673.7963\n",
      "Iteration 740 : Loss 3662.8796\n",
      "Iteration 750 : Loss 3652.1921\n",
      "Iteration 760 : Loss 3641.7274\n",
      "Iteration 770 : Loss 3631.4792\n",
      "Iteration 780 : Loss 3621.4413\n",
      "Iteration 790 : Loss 3611.6078\n",
      "Iteration 800 : Loss 3601.9729\n",
      "Iteration 810 : Loss 3592.5312\n",
      "Iteration 820 : Loss 3583.2773\n",
      "Iteration 830 : Loss 3574.2060\n",
      "Iteration 840 : Loss 3565.3122\n",
      "Iteration 850 : Loss 3556.5912\n",
      "Iteration 860 : Loss 3548.0383\n",
      "Iteration 870 : Loss 3539.6488\n",
      "Iteration 880 : Loss 3531.4184\n",
      "Iteration 890 : Loss 3523.3428\n",
      "Iteration 900 : Loss 3515.4180\n",
      "Iteration 910 : Loss 3507.6399\n",
      "Iteration 920 : Loss 3500.0046\n",
      "Iteration 930 : Loss 3492.5085\n",
      "Iteration 940 : Loss 3485.1479\n",
      "Iteration 950 : Loss 3477.9193\n",
      "Iteration 960 : Loss 3470.8193\n",
      "Iteration 970 : Loss 3463.8446\n",
      "Iteration 980 : Loss 3456.9920\n",
      "Iteration 990 : Loss 3450.2585\n",
      "Iteration 1000 : Loss 3443.6411\n",
      "Iteration 1010 : Loss 3437.1368\n",
      "Iteration 1020 : Loss 3430.7429\n",
      "Iteration 1030 : Loss 3424.4566\n",
      "Iteration 1040 : Loss 3418.2754\n",
      "Iteration 1050 : Loss 3412.1966\n",
      "Iteration 1060 : Loss 3406.2178\n",
      "Iteration 1070 : Loss 3400.3365\n",
      "Iteration 1080 : Loss 3394.5505\n",
      "Iteration 1090 : Loss 3388.8576\n",
      "Iteration 1100 : Loss 3383.2554\n",
      "Iteration 1110 : Loss 3377.7419\n",
      "Iteration 1120 : Loss 3372.3151\n",
      "Iteration 1130 : Loss 3366.9729\n",
      "Iteration 1140 : Loss 3361.7134\n",
      "Iteration 1150 : Loss 3356.5348\n",
      "Iteration 1160 : Loss 3351.4351\n",
      "Iteration 1170 : Loss 3346.4127\n",
      "Iteration 1180 : Loss 3341.4658\n",
      "Iteration 1190 : Loss 3336.5927\n",
      "Iteration 1200 : Loss 3331.7919\n",
      "Iteration 1210 : Loss 3327.0617\n",
      "Iteration 1220 : Loss 3322.4007\n",
      "Iteration 1230 : Loss 3317.8073\n",
      "Iteration 1240 : Loss 3313.2802\n",
      "Iteration 1250 : Loss 3308.8179\n",
      "Iteration 1260 : Loss 3304.4190\n",
      "Iteration 1270 : Loss 3300.0823\n",
      "Iteration 1280 : Loss 3295.8064\n",
      "Iteration 1290 : Loss 3291.5902\n",
      "Iteration 1300 : Loss 3287.4323\n",
      "Iteration 1310 : Loss 3283.3317\n",
      "Iteration 1320 : Loss 3279.2872\n",
      "Iteration 1330 : Loss 3275.2976\n",
      "Iteration 1340 : Loss 3271.3619\n",
      "Iteration 1350 : Loss 3267.4790\n",
      "Iteration 1360 : Loss 3263.6480\n",
      "Iteration 1370 : Loss 3259.8677\n",
      "Iteration 1380 : Loss 3256.1373\n",
      "Iteration 1390 : Loss 3252.4558\n",
      "Iteration 1400 : Loss 3248.8222\n",
      "Iteration 1410 : Loss 3245.2357\n",
      "Iteration 1420 : Loss 3241.6954\n",
      "Iteration 1430 : Loss 3238.2005\n",
      "Iteration 1440 : Loss 3234.7501\n",
      "Iteration 1450 : Loss 3231.3434\n",
      "Iteration 1460 : Loss 3227.9797\n",
      "Iteration 1470 : Loss 3224.6581\n",
      "Iteration 1480 : Loss 3221.3779\n",
      "Iteration 1490 : Loss 3218.1385\n",
      "Iteration 1500 : Loss 3214.9390\n",
      "Iteration 1510 : Loss 3211.7788\n",
      "Iteration 1520 : Loss 3208.6573\n",
      "Iteration 1530 : Loss 3205.5737\n",
      "Iteration 1540 : Loss 3202.5275\n",
      "Iteration 1550 : Loss 3199.5179\n",
      "Iteration 1560 : Loss 3196.5444\n",
      "Iteration 1570 : Loss 3193.6065\n",
      "Iteration 1580 : Loss 3190.7034\n",
      "Iteration 1590 : Loss 3187.8347\n",
      "Iteration 1600 : Loss 3184.9997\n",
      "Iteration 1610 : Loss 3182.1980\n",
      "Iteration 1620 : Loss 3179.4291\n",
      "Iteration 1630 : Loss 3176.6923\n",
      "Iteration 1640 : Loss 3173.9872\n",
      "Iteration 1650 : Loss 3171.3133\n",
      "Iteration 1660 : Loss 3168.6702\n",
      "Iteration 1670 : Loss 3166.0573\n",
      "Iteration 1680 : Loss 3163.4741\n",
      "Iteration 1690 : Loss 3160.9203\n",
      "Iteration 1700 : Loss 3158.3954\n",
      "Iteration 1710 : Loss 3155.8990\n",
      "Iteration 1720 : Loss 3153.4305\n",
      "Iteration 1730 : Loss 3150.9897\n",
      "Iteration 1740 : Loss 3148.5762\n",
      "Iteration 1750 : Loss 3146.1894\n",
      "Iteration 1760 : Loss 3143.8291\n",
      "Iteration 1770 : Loss 3141.4948\n",
      "Iteration 1780 : Loss 3139.1863\n",
      "Iteration 1790 : Loss 3136.9030\n",
      "Iteration 1800 : Loss 3134.6447\n",
      "Iteration 1810 : Loss 3132.4110\n",
      "Iteration 1820 : Loss 3130.2016\n",
      "Iteration 1830 : Loss 3128.0161\n",
      "Iteration 1840 : Loss 3125.8543\n",
      "Iteration 1850 : Loss 3123.7157\n",
      "Iteration 1860 : Loss 3121.6000\n",
      "Iteration 1870 : Loss 3119.5071\n",
      "Iteration 1880 : Loss 3117.4364\n",
      "Iteration 1890 : Loss 3115.3879\n",
      "Iteration 1900 : Loss 3113.3610\n",
      "Iteration 1910 : Loss 3111.3557\n",
      "Iteration 1920 : Loss 3109.3716\n",
      "Iteration 1930 : Loss 3107.4083\n",
      "Iteration 1940 : Loss 3105.4657\n",
      "Iteration 1950 : Loss 3103.5435\n",
      "Iteration 1960 : Loss 3101.6414\n",
      "Iteration 1970 : Loss 3099.7591\n",
      "Iteration 1980 : Loss 3097.8965\n",
      "Iteration 1990 : Loss 3096.0532\n",
      "Iteration 2000 : Loss 3094.2290\n",
      "Iteration 2010 : Loss 3092.4236\n",
      "Iteration 2020 : Loss 3090.6369\n",
      "Iteration 2030 : Loss 3088.8687\n",
      "Iteration 2040 : Loss 3087.1185\n",
      "Iteration 2050 : Loss 3085.3864\n",
      "Iteration 2060 : Loss 3083.6719\n",
      "Iteration 2070 : Loss 3081.9750\n",
      "Iteration 2080 : Loss 3080.2954\n",
      "Iteration 2090 : Loss 3078.6328\n",
      "Iteration 2100 : Loss 3076.9872\n",
      "Iteration 2110 : Loss 3075.3582\n",
      "Iteration 2120 : Loss 3073.7457\n",
      "Iteration 2130 : Loss 3072.1495\n",
      "Iteration 2140 : Loss 3070.5694\n",
      "Iteration 2150 : Loss 3069.0052\n",
      "Iteration 2160 : Loss 3067.4567\n",
      "Iteration 2170 : Loss 3065.9238\n",
      "Iteration 2180 : Loss 3064.4062\n",
      "Iteration 2190 : Loss 3062.9037\n",
      "Iteration 2200 : Loss 3061.4163\n",
      "Iteration 2210 : Loss 3059.9437\n",
      "Iteration 2220 : Loss 3058.4857\n",
      "Iteration 2230 : Loss 3057.0423\n",
      "Iteration 2240 : Loss 3055.6131\n",
      "Iteration 2250 : Loss 3054.1981\n",
      "Iteration 2260 : Loss 3052.7971\n",
      "Iteration 2270 : Loss 3051.4099\n",
      "Iteration 2280 : Loss 3050.0364\n",
      "Iteration 2290 : Loss 3048.6764\n",
      "Iteration 2300 : Loss 3047.3298\n",
      "Iteration 2310 : Loss 3045.9964\n",
      "Iteration 2320 : Loss 3044.6762\n",
      "Iteration 2330 : Loss 3043.3688\n",
      "Iteration 2340 : Loss 3042.0742\n",
      "Iteration 2350 : Loss 3040.7923\n",
      "Iteration 2360 : Loss 3039.5228\n",
      "Iteration 2370 : Loss 3038.2658\n",
      "Iteration 2380 : Loss 3037.0210\n",
      "Iteration 2390 : Loss 3035.7882\n",
      "Iteration 2400 : Loss 3034.5675\n",
      "Iteration 2410 : Loss 3033.3585\n",
      "Iteration 2420 : Loss 3032.1613\n",
      "Iteration 2430 : Loss 3030.9757\n",
      "Iteration 2440 : Loss 3029.8015\n",
      "Iteration 2450 : Loss 3028.6387\n",
      "Iteration 2460 : Loss 3027.4870\n",
      "Iteration 2470 : Loss 3026.3465\n",
      "Iteration 2480 : Loss 3025.2169\n",
      "Iteration 2490 : Loss 3024.0982\n",
      "Iteration 2500 : Loss 3022.9902\n",
      "Iteration 2510 : Loss 3021.8929\n",
      "Iteration 2520 : Loss 3020.8060\n",
      "Iteration 2530 : Loss 3019.7296\n",
      "Iteration 2540 : Loss 3018.6634\n",
      "Iteration 2550 : Loss 3017.6074\n",
      "Iteration 2560 : Loss 3016.5616\n",
      "Iteration 2570 : Loss 3015.5256\n",
      "Iteration 2580 : Loss 3014.4996\n",
      "Iteration 2590 : Loss 3013.4832\n",
      "Iteration 2600 : Loss 3012.4766\n",
      "Iteration 2610 : Loss 3011.4795\n",
      "Iteration 2620 : Loss 3010.4919\n",
      "Iteration 2630 : Loss 3009.5136\n",
      "Iteration 2640 : Loss 3008.5446\n",
      "Iteration 2650 : Loss 3007.5847\n",
      "Iteration 2660 : Loss 3006.6339\n",
      "Iteration 2670 : Loss 3005.6921\n",
      "Iteration 2680 : Loss 3004.7592\n",
      "Iteration 2690 : Loss 3003.8351\n",
      "Iteration 2700 : Loss 3002.9197\n",
      "Iteration 2710 : Loss 3002.0129\n",
      "Iteration 2720 : Loss 3001.1146\n",
      "Iteration 2730 : Loss 3000.2247\n",
      "Iteration 2740 : Loss 2999.3432\n",
      "Iteration 2750 : Loss 2998.4700\n",
      "Iteration 2760 : Loss 2997.6050\n",
      "Iteration 2770 : Loss 2996.7480\n",
      "Iteration 2780 : Loss 2995.8991\n",
      "Iteration 2790 : Loss 2995.0581\n",
      "Iteration 2800 : Loss 2994.2249\n",
      "Iteration 2810 : Loss 2993.3996\n",
      "Iteration 2820 : Loss 2992.5819\n",
      "Iteration 2830 : Loss 2991.7718\n",
      "Iteration 2840 : Loss 2990.9693\n",
      "Iteration 2850 : Loss 2990.1742\n",
      "Iteration 2860 : Loss 2989.3866\n",
      "Iteration 2870 : Loss 2988.6062\n",
      "Iteration 2880 : Loss 2987.8331\n",
      "Iteration 2890 : Loss 2987.0672\n",
      "Iteration 2900 : Loss 2986.3083\n",
      "Iteration 2910 : Loss 2985.5565\n",
      "Iteration 2920 : Loss 2984.8116\n",
      "Iteration 2930 : Loss 2984.0737\n",
      "Iteration 2940 : Loss 2983.3425\n",
      "Iteration 2950 : Loss 2982.6181\n",
      "Iteration 2960 : Loss 2981.9004\n",
      "Iteration 2970 : Loss 2981.1893\n",
      "Iteration 2980 : Loss 2980.4847\n",
      "Iteration 2990 : Loss 2979.7866\n",
      "Iteration 3000 : Loss 2979.0950\n"
     ]
    }
   ],
   "source": [
    "losses = []\n",
    "\n",
    "for i in range(1, 3001):\n",
    "    dW, db = gradient(X_train, W, b, y_train)\n",
    "    W -= LEARNING_RATE * dW\n",
    "    b -= LEARNING_RATE * db\n",
    "    L = loss(X_train, W, b, y_train)\n",
    "    losses.append(L)\n",
    "    if i % 10 == 0:\n",
    "        print('Iteration %d : Loss %0.4f' % (i, L))\n"
   ]
  },
  {
   "cell_type": "code",
   "execution_count": 14,
   "id": "f98106fb",
   "metadata": {},
   "outputs": [
    {
     "data": {
      "image/png": "[encoded data removed]",
      "text/plain": [
       "<Figure size 640x480 with 1 Axes>"
      ]
     },
     "metadata": {},
     "output_type": "display_data"
    }
   ],
   "source": [
    "import matplotlib.pyplot as plt\n",
    "plt.plot(losses)\n",
    "plt.show()"
   ]
  },
  {
   "cell_type": "markdown",
   "id": "8f6187bb",
   "metadata": {},
   "source": [
    "    (10) test 데이터에 대한 성능 확인하기"
   ]
  },
  {
   "cell_type": "code",
   "execution_count": 15,
   "id": "3bf1cad2",
   "metadata": {},
   "outputs": [
    {
     "data": {
      "text/plain": [
       "2870.533631108969"
      ]
     },
     "execution_count": 15,
     "metadata": {},
     "output_type": "execute_result"
    }
   ],
   "source": [
    "predictions = model(X_test, W, b)\n",
    "mse = loss(X_test, W, b, y_test)\n",
    "mse"
   ]
  },
  {
   "cell_type": "markdown",
   "id": "b96ff774",
   "metadata": {},
   "source": [
    "    (11) 정답 데이터와 예측한 데이터 시각화하기"
   ]
  },
  {
   "cell_type": "code",
   "execution_count": 16,
   "id": "8ae59d69",
   "metadata": {},
   "outputs": [
    {
     "data": {
      "image/png": "[encoded data removed]",
      "text/plain": [
       "<Figure size 640x480 with 1 Axes>"
      ]
     },
     "metadata": {},
     "output_type": "display_data"
    }
   ],
   "source": [
    "plt.scatter(X_test[:,0],y_test)\n",
    "plt.scatter(X_test[:,0],predictions)\n",
    "plt.show()"
   ]
  },
  {
   "cell_type": "code",
   "execution_count": null,
   "id": "f1b7b1c6",
   "metadata": {},
   "outputs": [],
   "source": []
  }
 ],
 "metadata": {
  "kernelspec": {
   "display_name": "Python 3 (ipykernel)",
   "language": "python",
   "name": "python3"
  },
  "language_info": {
   "codemirror_mode": {
    "name": "ipython",
    "version": 3
   },
   "file_extension": ".py",
   "mimetype": "text/x-python",
   "name": "python",
   "nbconvert_exporter": "python",
   "pygments_lexer": "ipython3",
   "version": "3.9.16"
  }
 },
 "nbformat": 4,
 "nbformat_minor": 5
}
