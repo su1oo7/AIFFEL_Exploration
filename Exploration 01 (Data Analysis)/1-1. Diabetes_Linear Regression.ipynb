{
 "cells": [
  {
   "cell_type": "code",
   "execution_count": 1,
   "id": "68bba0a7",
   "metadata": {},
   "outputs": [],
   "source": [
    "from sklearn.datasets import load_diabetes # (1)\n",
    "import numpy as np # (2,3)\n",
    "from sklearn.model_selection import train_test_split # (4)"
   ]
  },
  {
   "cell_type": "markdown",
   "id": "e621ac50",
   "metadata": {},
   "source": [
    "    (1) Loading Data\n",
    "\n",
    "* Import the data from load_diabetes in sklearn.datasets.\n",
    "\n",
    "* Save the data from diabetes.data into df_X and the target from diabetes.target into df_y."
   ]
  },
  {
   "cell_type": "code",
   "execution_count": 2,
   "id": "2864ee95",
   "metadata": {},
   "outputs": [
    {
     "name": "stdout",
     "output_type": "stream",
     "text": [
      "(442, 10)\n",
      "(442,)\n"
     ]
    }
   ],
   "source": [
    "from sklearn.datasets import load_diabetes\n",
    "diabetes = load_diabetes()\n",
    "df_x = diabetes.data\n",
    "df_y = diabetes.target\n",
    "\n",
    "print(df_x.shape)\n",
    "print(df_y.shape)"
   ]
  },
  {
   "cell_type": "code",
   "execution_count": 3,
   "id": "dae64dab",
   "metadata": {},
   "outputs": [
    {
     "name": "stdout",
     "output_type": "stream",
     "text": [
      ".. _diabetes_dataset:\n",
      "\n",
      "Diabetes dataset\n",
      "----------------\n",
      "\n",
      "Ten baseline variables, age, sex, body mass index, average blood\n",
      "pressure, and six blood serum measurements were obtained for each of n =\n",
      "442 diabetes patients, as well as the response of interest, a\n",
      "quantitative measure of disease progression one year after baseline.\n",
      "\n",
      "**Data Set Characteristics:**\n",
      "\n",
      "  :Number of Instances: 442\n",
      "\n",
      "  :Number of Attributes: First 10 columns are numeric predictive values\n",
      "\n",
      "  :Target: Column 11 is a quantitative measure of disease progression one year after baseline\n",
      "\n",
      "  :Attribute Information:\n",
      "      - age     age in years\n",
      "      - sex\n",
      "      - bmi     body mass index\n",
      "      - bp      average blood pressure\n",
      "      - s1      tc, total serum cholesterol\n",
      "      - s2      ldl, low-density lipoproteins\n",
      "      - s3      hdl, high-density lipoproteins\n",
      "      - s4      tch, total cholesterol / HDL\n",
      "      - s5      ltg, possibly log of serum triglycerides level\n",
      "      - s6      glu, blood sugar level\n",
      "\n",
      "Note: Each of these 10 feature variables have been mean centered and scaled by the standard deviation times the square root of `n_samples` (i.e. the sum of squares of each column totals 1).\n",
      "\n",
      "Source URL:\n",
      "https://www4.stat.ncsu.edu/~boos/var.select/diabetes.html\n",
      "\n",
      "For more information see:\n",
      "Bradley Efron, Trevor Hastie, Iain Johnstone and Robert Tibshirani (2004) \"Least Angle Regression,\" Annals of Statistics (with discussion), 407-499.\n",
      "(https://web.stanford.edu/~hastie/Papers/LARS/LeastAngle_2002.pdf)\n",
      "\n"
     ]
    }
   ],
   "source": [
    "print(diabetes.DESCR)"
   ]
  },
  {
   "cell_type": "markdown",
   "id": "ca09d7b3",
   "metadata": {},
   "source": [
    "    (2) Preparing Input Data for the Model\n",
    "    \n",
    "* Convert the values in df_X to a numpy array and store it."
   ]
  },
  {
   "cell_type": "code",
   "execution_count": 4,
   "id": "e7c2a10f",
   "metadata": {},
   "outputs": [],
   "source": [
    "df_x = np.array(df_x)"
   ]
  },
  {
   "cell_type": "markdown",
   "id": "2a3dbe3c",
   "metadata": {},
   "source": [
    "    (3) Preparing Target Data for the Model\n",
    "\n",
    "* Convert the values in df_y to a numpy array and store it."
   ]
  },
  {
   "cell_type": "code",
   "execution_count": 5,
   "id": "ab8112e6",
   "metadata": {},
   "outputs": [],
   "source": [
    "df_y = np.array(df_y)"
   ]
  },
  {
   "cell_type": "markdown",
   "id": "92ed6e3b",
   "metadata": {},
   "source": [
    "    (4) Splitting the Data into Train and Test Sets\n",
    "\n",
    "* Split the X and y data into separate train and test sets."
   ]
  },
  {
   "cell_type": "code",
   "execution_count": 6,
   "id": "e2028248",
   "metadata": {},
   "outputs": [],
   "source": [
    "X_train, X_test, y_train, y_test = train_test_split(\n",
    "    df_x, df_y, test_size=0.2, random_state=42)"
   ]
  },
  {
   "cell_type": "markdown",
   "id": "577dad22",
   "metadata": {},
   "source": [
    "(5) Preparing the Model\n",
    "\n",
    "* Prepare the weight W and bias b according to the number of input features.\n",
    "* Implement the model function."
   ]
  },
  {
   "cell_type": "code",
   "execution_count": 7,
   "id": "dfdb99b9",
   "metadata": {},
   "outputs": [
    {
     "name": "stdout",
     "output_type": "stream",
     "text": [
      "[0.33380753 0.06304176 0.38928935 0.0042788  0.44225957 0.16913545\n",
      " 0.56141312 0.04287637 0.77428197 0.35476169]\n",
      "0.8180992042067827\n"
     ]
    }
   ],
   "source": [
    "W = np.random.rand(10)\n",
    "b = np.random.rand()\n",
    "\n",
    "print(W)\n",
    "print(b)"
   ]
  },
  {
   "cell_type": "code",
   "execution_count": 8,
   "id": "4ce3df77",
   "metadata": {},
   "outputs": [],
   "source": [
    "def model(X,W,b):\n",
    "    predictions = 0\n",
    "    for i in range(X.shape[1]):\n",
    "        predictions += X[:, i] * W[i]\n",
    "    predictions += b\n",
    "    return predictions"
   ]
  },
  {
   "cell_type": "markdown",
   "id": "9b49d623",
   "metadata": {},
   "source": [
    "(6) Defining the Loss Function\n",
    "\n",
    "* Define the loss function using the Mean Squared Error (MSE) function."
   ]
  },
  {
   "cell_type": "code",
   "execution_count": 9,
   "id": "b22abca2",
   "metadata": {},
   "outputs": [],
   "source": [
    "def MSE(a, b):\n",
    "    mse = ((a - b) ** 2).mean()\n",
    "    return mse\n",
    "\n",
    "def loss(x, w, b, y):\n",
    "    predictions = model(x, w, b)\n",
    "    L = MSE(predictions, y)\n",
    "    return L"
   ]
  },
  {
   "cell_type": "markdown",
   "id": "4612af13",
   "metadata": {},
   "source": [
    "    (7) Implementing the Gradient Function\n",
    "\n",
    "* Implement the gradient function to compute the gradients."
   ]
  },
  {
   "cell_type": "code",
   "execution_count": 10,
   "id": "5e3a8b10",
   "metadata": {},
   "outputs": [],
   "source": [
    "def gradient(X, W, b, y):\n",
    "    # N은 데이터 포인트의 개수\n",
    "    N = len(y)\n",
    "    \n",
    "    # y_pred 준비\n",
    "    y_pred = model(X, W, b)\n",
    "    \n",
    "    # 공식에 맞게 gradient 계산\n",
    "    dW = 1/N * 2 * X.T.dot(y_pred - y)\n",
    "        \n",
    "    # b의 gradient 계산\n",
    "    db = 2 * (y_pred - y).mean()\n",
    "    return dW, db\n",
    "\n"
   ]
  },
  {
   "cell_type": "code",
   "execution_count": 11,
   "id": "dedf2362",
   "metadata": {},
   "outputs": [
    {
     "name": "stdout",
     "output_type": "stream",
     "text": [
      "[-1.37253168 -0.31460594 -4.29197805 -3.2305901  -1.5470876  -1.27043741\n",
      "  2.89170282 -3.1494379  -4.13954065 -2.79721276]\n",
      "-302.6307699173783\n"
     ]
    }
   ],
   "source": [
    "dW,db=gradient(df_x,W,b,df_y)\n",
    "print(dW)\n",
    "print(db)"
   ]
  },
  {
   "cell_type": "markdown",
   "id": "0bd118c8",
   "metadata": {},
   "source": [
    "    (8) Setting the Learning Rate as a Hyperparameter\n",
    "\n",
    "* Set the learning rate as a hyperparameter.\n",
    "\n",
    "* If the model is not learning well, experiment with different learning rate values."
   ]
  },
  {
   "cell_type": "code",
   "execution_count": 12,
   "id": "461a196b",
   "metadata": {},
   "outputs": [],
   "source": [
    "LEARNING_RATE = 0.1"
   ]
  },
  {
   "cell_type": "markdown",
   "id": "e9794a69",
   "metadata": {},
   "source": [
    "    (9) Training the Model\n",
    "\n",
    "* Train the model using the defined loss function and gradient function.\n",
    "* Train the model until the loss value is sufficiently low.\n",
    "* It is acceptable to exclude some feature columns from the input data X. Experiment with various data configurations."
   ]
  },
  {
   "cell_type": "code",
   "execution_count": 13,
   "id": "8643df18",
   "metadata": {},
   "outputs": [
    {
     "name": "stdout",
     "output_type": "stream",
     "text": [
      "Iteration 10 : Loss 6257.5316\n",
      "Iteration 20 : Loss 5914.9101\n",
      "Iteration 30 : Loss 5838.0966\n",
      "Iteration 40 : Loss 5766.6068\n",
      "Iteration 50 : Loss 5697.3612\n",
      "Iteration 60 : Loss 5630.2500\n",
      "Iteration 70 : Loss 5565.2007\n",
      "Iteration 80 : Loss 5502.1435\n",
      "Iteration 90 : Loss 5441.0110\n",
      "Iteration 100 : Loss 5381.7382\n",
      "Iteration 110 : Loss 5324.2624\n",
      "Iteration 120 : Loss 5268.5230\n",
      "Iteration 130 : Loss 5214.4616\n",
      "Iteration 140 : Loss 5162.0219\n",
      "Iteration 150 : Loss 5111.1495\n",
      "Iteration 160 : Loss 5061.7917\n",
      "Iteration 170 : Loss 5013.8978\n",
      "Iteration 180 : Loss 4967.4191\n",
      "Iteration 190 : Loss 4922.3082\n",
      "Iteration 200 : Loss 4878.5195\n",
      "Iteration 210 : Loss 4836.0090\n",
      "Iteration 220 : Loss 4794.7342\n",
      "Iteration 230 : Loss 4754.6543\n",
      "Iteration 240 : Loss 4715.7295\n",
      "Iteration 250 : Loss 4677.9216\n",
      "Iteration 260 : Loss 4641.1938\n",
      "Iteration 270 : Loss 4605.5105\n",
      "Iteration 280 : Loss 4570.8373\n",
      "Iteration 290 : Loss 4537.1411\n",
      "Iteration 300 : Loss 4504.3897\n",
      "Iteration 310 : Loss 4472.5523\n",
      "Iteration 320 : Loss 4441.5990\n",
      "Iteration 330 : Loss 4411.5009\n",
      "Iteration 340 : Loss 4382.2304\n",
      "Iteration 350 : Loss 4353.7604\n",
      "Iteration 360 : Loss 4326.0650\n",
      "Iteration 370 : Loss 4299.1192\n",
      "Iteration 380 : Loss 4272.8988\n",
      "Iteration 390 : Loss 4247.3804\n",
      "Iteration 400 : Loss 4222.5415\n",
      "Iteration 410 : Loss 4198.3603\n",
      "Iteration 420 : Loss 4174.8157\n",
      "Iteration 430 : Loss 4151.8875\n",
      "Iteration 440 : Loss 4129.5560\n",
      "Iteration 450 : Loss 4107.8023\n",
      "Iteration 460 : Loss 4086.6080\n",
      "Iteration 470 : Loss 4065.9556\n",
      "Iteration 480 : Loss 4045.8279\n",
      "Iteration 490 : Loss 4026.2085\n",
      "Iteration 500 : Loss 4007.0814\n",
      "Iteration 510 : Loss 3988.4312\n",
      "Iteration 520 : Loss 3970.2432\n",
      "Iteration 530 : Loss 3952.5028\n",
      "Iteration 540 : Loss 3935.1964\n",
      "Iteration 550 : Loss 3918.3104\n",
      "Iteration 560 : Loss 3901.8319\n",
      "Iteration 570 : Loss 3885.7484\n",
      "Iteration 580 : Loss 3870.0479\n",
      "Iteration 590 : Loss 3854.7186\n",
      "Iteration 600 : Loss 3839.7493\n",
      "Iteration 610 : Loss 3825.1291\n",
      "Iteration 620 : Loss 3810.8474\n",
      "Iteration 630 : Loss 3796.8941\n",
      "Iteration 640 : Loss 3783.2593\n",
      "Iteration 650 : Loss 3769.9335\n",
      "Iteration 660 : Loss 3756.9076\n",
      "Iteration 670 : Loss 3744.1726\n",
      "Iteration 680 : Loss 3731.7199\n",
      "Iteration 690 : Loss 3719.5413\n",
      "Iteration 700 : Loss 3707.6286\n",
      "Iteration 710 : Loss 3695.9743\n",
      "Iteration 720 : Loss 3684.5707\n",
      "Iteration 730 : Loss 3673.4106\n",
      "Iteration 740 : Loss 3662.4871\n",
      "Iteration 750 : Loss 3651.7932\n",
      "Iteration 760 : Loss 3641.3225\n",
      "Iteration 770 : Loss 3631.0686\n",
      "Iteration 780 : Loss 3621.0254\n",
      "Iteration 790 : Loss 3611.1869\n",
      "Iteration 800 : Loss 3601.5475\n",
      "Iteration 810 : Loss 3592.1015\n",
      "Iteration 820 : Loss 3582.8436\n",
      "Iteration 830 : Loss 3573.7685\n",
      "Iteration 840 : Loss 3564.8714\n",
      "Iteration 850 : Loss 3556.1472\n",
      "Iteration 860 : Loss 3547.5914\n",
      "Iteration 870 : Loss 3539.1992\n",
      "Iteration 880 : Loss 3530.9665\n",
      "Iteration 890 : Loss 3522.8887\n",
      "Iteration 900 : Loss 3514.9619\n",
      "Iteration 910 : Loss 3507.1821\n",
      "Iteration 920 : Loss 3499.5453\n",
      "Iteration 930 : Loss 3492.0479\n",
      "Iteration 940 : Loss 3484.6861\n",
      "Iteration 950 : Loss 3477.4565\n",
      "Iteration 960 : Loss 3470.3557\n",
      "Iteration 970 : Loss 3463.3804\n",
      "Iteration 980 : Loss 3456.5273\n",
      "Iteration 990 : Loss 3449.7935\n",
      "Iteration 1000 : Loss 3443.1759\n",
      "Iteration 1010 : Loss 3436.6716\n",
      "Iteration 1020 : Loss 3430.2778\n",
      "Iteration 1030 : Loss 3423.9917\n",
      "Iteration 1040 : Loss 3417.8108\n",
      "Iteration 1050 : Loss 3411.7325\n",
      "Iteration 1060 : Loss 3405.7542\n",
      "Iteration 1070 : Loss 3399.8736\n",
      "Iteration 1080 : Loss 3394.0884\n",
      "Iteration 1090 : Loss 3388.3963\n",
      "Iteration 1100 : Loss 3382.7951\n",
      "Iteration 1110 : Loss 3377.2827\n",
      "Iteration 1120 : Loss 3371.8570\n",
      "Iteration 1130 : Loss 3366.5160\n",
      "Iteration 1140 : Loss 3361.2578\n",
      "Iteration 1150 : Loss 3356.0805\n",
      "Iteration 1160 : Loss 3350.9823\n",
      "Iteration 1170 : Loss 3345.9614\n",
      "Iteration 1180 : Loss 3341.0160\n",
      "Iteration 1190 : Loss 3336.1446\n",
      "Iteration 1200 : Loss 3331.3454\n",
      "Iteration 1210 : Loss 3326.6170\n",
      "Iteration 1220 : Loss 3321.9578\n",
      "Iteration 1230 : Loss 3317.3662\n",
      "Iteration 1240 : Loss 3312.8409\n",
      "Iteration 1250 : Loss 3308.3805\n",
      "Iteration 1260 : Loss 3303.9836\n",
      "Iteration 1270 : Loss 3299.6489\n",
      "Iteration 1280 : Loss 3295.3751\n",
      "Iteration 1290 : Loss 3291.1609\n",
      "Iteration 1300 : Loss 3287.0051\n",
      "Iteration 1310 : Loss 3282.9066\n",
      "Iteration 1320 : Loss 3278.8642\n",
      "Iteration 1330 : Loss 3274.8768\n",
      "Iteration 1340 : Loss 3270.9433\n",
      "Iteration 1350 : Loss 3267.0627\n",
      "Iteration 1360 : Loss 3263.2339\n",
      "Iteration 1370 : Loss 3259.4559\n",
      "Iteration 1380 : Loss 3255.7277\n",
      "Iteration 1390 : Loss 3252.0485\n",
      "Iteration 1400 : Loss 3248.4172\n",
      "Iteration 1410 : Loss 3244.8331\n",
      "Iteration 1420 : Loss 3241.2951\n",
      "Iteration 1430 : Loss 3237.8025\n",
      "Iteration 1440 : Loss 3234.3545\n",
      "Iteration 1450 : Loss 3230.9502\n",
      "Iteration 1460 : Loss 3227.5888\n",
      "Iteration 1470 : Loss 3224.2696\n",
      "Iteration 1480 : Loss 3220.9918\n",
      "Iteration 1490 : Loss 3217.7548\n",
      "Iteration 1500 : Loss 3214.5577\n",
      "Iteration 1510 : Loss 3211.3999\n",
      "Iteration 1520 : Loss 3208.2808\n",
      "Iteration 1530 : Loss 3205.1996\n",
      "Iteration 1540 : Loss 3202.1558\n",
      "Iteration 1550 : Loss 3199.1486\n",
      "Iteration 1560 : Loss 3196.1776\n",
      "Iteration 1570 : Loss 3193.2420\n",
      "Iteration 1580 : Loss 3190.3413\n",
      "Iteration 1590 : Loss 3187.4750\n",
      "Iteration 1600 : Loss 3184.6425\n",
      "Iteration 1610 : Loss 3181.8432\n",
      "Iteration 1620 : Loss 3179.0766\n",
      "Iteration 1630 : Loss 3176.3422\n",
      "Iteration 1640 : Loss 3173.6395\n",
      "Iteration 1650 : Loss 3170.9680\n",
      "Iteration 1660 : Loss 3168.3272\n",
      "Iteration 1670 : Loss 3165.7166\n",
      "Iteration 1680 : Loss 3163.1359\n",
      "Iteration 1690 : Loss 3160.5844\n",
      "Iteration 1700 : Loss 3158.0618\n",
      "Iteration 1710 : Loss 3155.5677\n",
      "Iteration 1720 : Loss 3153.1016\n",
      "Iteration 1730 : Loss 3150.6631\n",
      "Iteration 1740 : Loss 3148.2519\n",
      "Iteration 1750 : Loss 3145.8674\n",
      "Iteration 1760 : Loss 3143.5094\n",
      "Iteration 1770 : Loss 3141.1774\n",
      "Iteration 1780 : Loss 3138.8711\n",
      "Iteration 1790 : Loss 3136.5901\n",
      "Iteration 1800 : Loss 3134.3340\n",
      "Iteration 1810 : Loss 3132.1026\n",
      "Iteration 1820 : Loss 3129.8954\n",
      "Iteration 1830 : Loss 3127.7121\n",
      "Iteration 1840 : Loss 3125.5524\n",
      "Iteration 1850 : Loss 3123.4160\n",
      "Iteration 1860 : Loss 3121.3026\n",
      "Iteration 1870 : Loss 3119.2118\n",
      "Iteration 1880 : Loss 3117.1433\n",
      "Iteration 1890 : Loss 3115.0969\n",
      "Iteration 1900 : Loss 3113.0722\n",
      "Iteration 1910 : Loss 3111.0689\n",
      "Iteration 1920 : Loss 3109.0869\n",
      "Iteration 1930 : Loss 3107.1258\n",
      "Iteration 1940 : Loss 3105.1852\n",
      "Iteration 1950 : Loss 3103.2651\n",
      "Iteration 1960 : Loss 3101.3650\n",
      "Iteration 1970 : Loss 3099.4848\n",
      "Iteration 1980 : Loss 3097.6242\n",
      "Iteration 1990 : Loss 3095.7829\n",
      "Iteration 2000 : Loss 3093.9607\n",
      "Iteration 2010 : Loss 3092.1574\n",
      "Iteration 2020 : Loss 3090.3726\n",
      "Iteration 2030 : Loss 3088.6063\n",
      "Iteration 2040 : Loss 3086.8582\n",
      "Iteration 2050 : Loss 3085.1279\n",
      "Iteration 2060 : Loss 3083.4154\n",
      "Iteration 2070 : Loss 3081.7204\n",
      "Iteration 2080 : Loss 3080.0427\n",
      "Iteration 2090 : Loss 3078.3820\n",
      "Iteration 2100 : Loss 3076.7382\n",
      "Iteration 2110 : Loss 3075.1111\n",
      "Iteration 2120 : Loss 3073.5005\n",
      "Iteration 2130 : Loss 3071.9061\n",
      "Iteration 2140 : Loss 3070.3279\n",
      "Iteration 2150 : Loss 3068.7655\n",
      "Iteration 2160 : Loss 3067.2188\n",
      "Iteration 2170 : Loss 3065.6876\n",
      "Iteration 2180 : Loss 3064.1718\n",
      "Iteration 2190 : Loss 3062.6711\n",
      "Iteration 2200 : Loss 3061.1854\n",
      "Iteration 2210 : Loss 3059.7145\n",
      "Iteration 2220 : Loss 3058.2583\n",
      "Iteration 2230 : Loss 3056.8165\n",
      "Iteration 2240 : Loss 3055.3890\n",
      "Iteration 2250 : Loss 3053.9757\n",
      "Iteration 2260 : Loss 3052.5764\n",
      "Iteration 2270 : Loss 3051.1909\n",
      "Iteration 2280 : Loss 3049.8190\n",
      "Iteration 2290 : Loss 3048.4607\n",
      "Iteration 2300 : Loss 3047.1157\n",
      "Iteration 2310 : Loss 3045.7839\n",
      "Iteration 2320 : Loss 3044.4652\n",
      "Iteration 2330 : Loss 3043.1594\n",
      "Iteration 2340 : Loss 3041.8664\n",
      "Iteration 2350 : Loss 3040.5861\n",
      "Iteration 2360 : Loss 3039.3182\n",
      "Iteration 2370 : Loss 3038.0626\n",
      "Iteration 2380 : Loss 3036.8193\n",
      "Iteration 2390 : Loss 3035.5881\n",
      "Iteration 2400 : Loss 3034.3689\n",
      "Iteration 2410 : Loss 3033.1614\n",
      "Iteration 2420 : Loss 3031.9657\n",
      "Iteration 2430 : Loss 3030.7815\n",
      "Iteration 2440 : Loss 3029.6088\n",
      "Iteration 2450 : Loss 3028.4474\n",
      "Iteration 2460 : Loss 3027.2972\n",
      "Iteration 2470 : Loss 3026.1581\n",
      "Iteration 2480 : Loss 3025.0299\n",
      "Iteration 2490 : Loss 3023.9126\n",
      "Iteration 2500 : Loss 3022.8060\n",
      "Iteration 2510 : Loss 3021.7100\n",
      "Iteration 2520 : Loss 3020.6245\n",
      "Iteration 2530 : Loss 3019.5494\n",
      "Iteration 2540 : Loss 3018.4846\n",
      "Iteration 2550 : Loss 3017.4300\n",
      "Iteration 2560 : Loss 3016.3854\n",
      "Iteration 2570 : Loss 3015.3508\n",
      "Iteration 2580 : Loss 3014.3260\n",
      "Iteration 2590 : Loss 3013.3110\n",
      "Iteration 2600 : Loss 3012.3056\n",
      "Iteration 2610 : Loss 3011.3098\n",
      "Iteration 2620 : Loss 3010.3234\n",
      "Iteration 2630 : Loss 3009.3464\n",
      "Iteration 2640 : Loss 3008.3786\n",
      "Iteration 2650 : Loss 3007.4200\n",
      "Iteration 2660 : Loss 3006.4705\n",
      "Iteration 2670 : Loss 3005.5299\n",
      "Iteration 2680 : Loss 3004.5981\n",
      "Iteration 2690 : Loss 3003.6752\n",
      "Iteration 2700 : Loss 3002.7610\n",
      "Iteration 2710 : Loss 3001.8553\n",
      "Iteration 2720 : Loss 3000.9582\n",
      "Iteration 2730 : Loss 3000.0695\n",
      "Iteration 2740 : Loss 2999.1891\n",
      "Iteration 2750 : Loss 2998.3170\n",
      "Iteration 2760 : Loss 2997.4531\n",
      "Iteration 2770 : Loss 2996.5973\n",
      "Iteration 2780 : Loss 2995.7494\n",
      "Iteration 2790 : Loss 2994.9095\n",
      "Iteration 2800 : Loss 2994.0775\n",
      "Iteration 2810 : Loss 2993.2532\n",
      "Iteration 2820 : Loss 2992.4366\n",
      "Iteration 2830 : Loss 2991.6276\n",
      "Iteration 2840 : Loss 2990.8261\n",
      "Iteration 2850 : Loss 2990.0321\n",
      "Iteration 2860 : Loss 2989.2454\n",
      "Iteration 2870 : Loss 2988.4661\n",
      "Iteration 2880 : Loss 2987.6940\n",
      "Iteration 2890 : Loss 2986.9291\n",
      "Iteration 2900 : Loss 2986.1712\n",
      "Iteration 2910 : Loss 2985.4204\n",
      "Iteration 2920 : Loss 2984.6765\n",
      "Iteration 2930 : Loss 2983.9395\n",
      "Iteration 2940 : Loss 2983.2093\n",
      "Iteration 2950 : Loss 2982.4859\n",
      "Iteration 2960 : Loss 2981.7691\n",
      "Iteration 2970 : Loss 2981.0589\n",
      "Iteration 2980 : Loss 2980.3553\n",
      "Iteration 2990 : Loss 2979.6581\n",
      "Iteration 3000 : Loss 2978.9674\n"
     ]
    }
   ],
   "source": [
    "losses = []\n",
    "\n",
    "for i in range(1, 3001):\n",
    "    dW, db = gradient(X_train, W, b, y_train)\n",
    "    W -= LEARNING_RATE * dW\n",
    "    b -= LEARNING_RATE * db\n",
    "    L = loss(X_train, W, b, y_train)\n",
    "    losses.append(L)\n",
    "    if i % 10 == 0:\n",
    "        print('Iteration %d : Loss %0.4f' % (i, L))\n"
   ]
  },
  {
   "cell_type": "code",
   "execution_count": 14,
   "id": "f98106fb",
   "metadata": {},
   "outputs": [
    {
     "data": {
      "image/png": "[encoded data removed]",
      "text/plain": [
       "<Figure size 640x480 with 1 Axes>"
      ]
     },
     "metadata": {},
     "output_type": "display_data"
    }
   ],
   "source": [
    "import matplotlib.pyplot as plt\n",
    "plt.plot(losses)\n",
    "plt.show()"
   ]
  },
  {
   "cell_type": "markdown",
   "id": "8f6187bb",
   "metadata": {},
   "source": [
    "    (10) Evaluating Performance on Test Data\n",
    "\n",
    "* Evaluate the performance of the model on the test data."
   ]
  },
  {
   "cell_type": "code",
   "execution_count": 15,
   "id": "3bf1cad2",
   "metadata": {},
   "outputs": [
    {
     "data": {
      "text/plain": [
       "2870.1170835775138"
      ]
     },
     "execution_count": 15,
     "metadata": {},
     "output_type": "execute_result"
    }
   ],
   "source": [
    "predictions = model(X_test, W, b)\n",
    "mse = loss(X_test, W, b, y_test)\n",
    "mse"
   ]
  },
  {
   "cell_type": "markdown",
   "id": "b96ff774",
   "metadata": {},
   "source": [
    "    (11) Visualizing the Ground Truth and Predicted Data\n",
    "\n",
    "* Create a plot with the first column of the X data on the x-axis and the target data on the y-axis to visualize the predicted data by the model.\n"
   ]
  },
  {
   "cell_type": "code",
   "execution_count": 16,
   "id": "8ae59d69",
   "metadata": {},
   "outputs": [
    {
     "data": {
      "image/png": "[encoded data removed]",
      "text/plain": [
       "<Figure size 640x480 with 1 Axes>"
      ]
     },
     "metadata": {},
     "output_type": "display_data"
    }
   ],
   "source": [
    "plt.scatter(X_test[:,0],y_test)\n",
    "plt.scatter(X_test[:,0],predictions)\n",
    "plt.show()"
   ]
  },
  {
   "cell_type": "code",
   "execution_count": null,
   "id": "f1b7b1c6",
   "metadata": {},
   "outputs": [],
   "source": []
  }
 ],
 "metadata": {
  "kernelspec": {
   "display_name": "Python 3 (ipykernel)",
   "language": "python",
   "name": "python3"
  },
  "language_info": {
   "codemirror_mode": {
    "name": "ipython",
    "version": 3
   },
   "file_extension": ".py",
   "mimetype": "text/x-python",
   "name": "python",
   "nbconvert_exporter": "python",
   "pygments_lexer": "ipython3",
   "version": "3.9.16"
  }
 },
 "nbformat": 4,
 "nbformat_minor": 5
}
